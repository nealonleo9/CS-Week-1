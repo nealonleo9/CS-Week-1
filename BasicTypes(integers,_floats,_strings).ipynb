{
  "nbformat": 4,
  "nbformat_minor": 0,
  "metadata": {
    "colab": {
      "name": "BasicTypes(integers, floats, strings)",
      "provenance": [],
      "authorship_tag": "ABX9TyO9Cl3wo1sz+gF7Uyp2hvDY",
      "include_colab_link": true
    },
    "kernelspec": {
      "name": "python3",
      "display_name": "Python 3"
    }
  },
  "cells": [
    {
      "cell_type": "markdown",
      "metadata": {
        "id": "view-in-github",
        "colab_type": "text"
      },
      "source": [
        "<a href=\"https://colab.research.google.com/github/nealonleo9/CS-Week-1/blob/main/BasicTypes(integers%2C_floats%2C_strings).ipynb\" target=\"_parent\"><img src=\"https://colab.research.google.com/assets/colab-badge.svg\" alt=\"Open In Colab\"/></a>"
      ]
    },
    {
      "cell_type": "code",
      "metadata": {
        "colab": {
          "base_uri": "https://localhost:8080/"
        },
        "id": "gU1_JDOaI8G5",
        "outputId": "ec9ccbaf-ef3e-4859-94b6-8b4554029247"
      },
      "source": [
        "\"\"\"\r\n",
        "Modify the assignment statements below so that an integer is assigned to \"my_int\", a floating point is assigned to \"my_float\", and a string is assigned to \"my_string\".\r\n",
        "\r\n",
        "Then, use typecasting to print your integer as a floating point number. Use typecasting again to print your floating point number as an integer.\r\n",
        "\"\"\"\r\n",
        "\r\n",
        "# Modify the code below to fulfill the requirements outlined in the docstring.\r\n",
        "my_int = int(3)\r\n",
        "my_float = 3.0\r\n",
        "my_string = \"Lambda School\"\r\n",
        "\r\n",
        "# Practice typecasting as outlined above with these print statements.\r\n",
        "print(my_int)\r\n",
        "print(my_float)\r\n",
        "print(my_string)"
      ],
      "execution_count": 1,
      "outputs": [
        {
          "output_type": "stream",
          "text": [
            "3\n",
            "3.0\n",
            "Lambda School\n"
          ],
          "name": "stdout"
        }
      ]
    }
  ]
}