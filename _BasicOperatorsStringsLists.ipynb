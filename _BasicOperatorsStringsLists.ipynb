{
  "nbformat": 4,
  "nbformat_minor": 0,
  "metadata": {
    "colab": {
      "name": "*BasicOperatorsStringsLists",
      "provenance": [],
      "authorship_tag": "ABX9TyP2oLv6umojF1pw5VEitXLb",
      "include_colab_link": true
    },
    "kernelspec": {
      "name": "python3",
      "display_name": "Python 3"
    }
  },
  "cells": [
    {
      "cell_type": "markdown",
      "metadata": {
        "id": "view-in-github",
        "colab_type": "text"
      },
      "source": [
        "<a href=\"https://colab.research.google.com/github/nealonleo9/CS-Week-1/blob/main/_BasicOperatorsStringsLists.ipynb\" target=\"_parent\"><img src=\"https://colab.research.google.com/assets/colab-badge.svg\" alt=\"Open In Colab\"/></a>"
      ]
    },
    {
      "cell_type": "code",
      "metadata": {
        "colab": {
          "base_uri": "https://localhost:8080/"
        },
        "id": "BIZCexZgR5hs",
        "outputId": "445f83ea-20b9-4709-8949-9fedeed3e6c5"
      },
      "source": [
        "my_number = 2 + 2 * 8 / 5.0\r\n",
        "print(my_number) # 5.2"
      ],
      "execution_count": 1,
      "outputs": [
        {
          "output_type": "stream",
          "text": [
            "5.2\n"
          ],
          "name": "stdout"
        }
      ]
    },
    {
      "cell_type": "code",
      "metadata": {
        "colab": {
          "base_uri": "https://localhost:8080/"
        },
        "id": "dDc3_a2rSZjw",
        "outputId": "6bd176ba-7033-4ecf-e3d1-ccc83a303e6a"
      },
      "source": [
        "my_remainder = 9 % 4\r\n",
        "print(my_remainder) # 1"
      ],
      "execution_count": 2,
      "outputs": [
        {
          "output_type": "stream",
          "text": [
            "1\n"
          ],
          "name": "stdout"
        }
      ]
    },
    {
      "cell_type": "code",
      "metadata": {
        "colab": {
          "base_uri": "https://localhost:8080/"
        },
        "id": "pKsrmTchScWs",
        "outputId": "8c0c154d-8c70-40f7-e8e4-3962020f2178"
      },
      "source": [
        "two_squared = 2 ** 2\r\n",
        "print(two_squared)    # 4\r\n",
        "two_cubed = 2 ** 3\r\n",
        "print(two_cubed)      # 8"
      ],
      "execution_count": 3,
      "outputs": [
        {
          "output_type": "stream",
          "text": [
            "4\n",
            "8\n"
          ],
          "name": "stdout"
        }
      ]
    },
    {
      "cell_type": "code",
      "metadata": {
        "colab": {
          "base_uri": "https://localhost:8080/"
        },
        "id": "R3t1_Ch8Scaa",
        "outputId": "525d1947-3d83-489c-a724-1696ea30de12"
      },
      "source": [
        "string_one = \"Hello,\"\r\n",
        "string_two = \" World!\"\r\n",
        "combined = string_one + string_two\r\n",
        "print(combined) # Hello, World!\r\n",
        "\r\n",
        "lst_one = [1,2,3]\r\n",
        "lst_two = [4,5,6]\r\n",
        "big_lst = lst_one + lst_two\r\n",
        "print(big_lst) # [1, 2, 3, 4, 5, 6]"
      ],
      "execution_count": 4,
      "outputs": [
        {
          "output_type": "stream",
          "text": [
            "Hello, World!\n",
            "[1, 2, 3, 4, 5, 6]\n"
          ],
          "name": "stdout"
        }
      ]
    },
    {
      "cell_type": "code",
      "metadata": {
        "colab": {
          "base_uri": "https://localhost:8080/"
        },
        "id": "eJF2j08oScey",
        "outputId": "713736b3-ba6a-4c20-eee3-6b8b1c895af9"
      },
      "source": [
        "my_string = \"Bueller\"\r\n",
        "repeated = my_string * 3\r\n",
        "print(repeated) # BuellerBuellerBueller\r\n",
        "\r\n",
        "my_list = [1, 2, 3]\r\n",
        "repeated_list = my_list * 3\r\n",
        "print(repeated_list) # [1, 2, 3, 1, 2, 3, 1, 2, 3]"
      ],
      "execution_count": 5,
      "outputs": [
        {
          "output_type": "stream",
          "text": [
            "BuellerBuellerBueller\n",
            "[1, 2, 3, 1, 2, 3, 1, 2, 3]\n"
          ],
          "name": "stdout"
        }
      ]
    },
    {
      "cell_type": "code",
      "metadata": {
        "id": "C1TOOVusSchh"
      },
      "source": [
        "a = object()\r\n",
        "b = object()"
      ],
      "execution_count": 6,
      "outputs": []
    },
    {
      "cell_type": "code",
      "metadata": {
        "id": "LvLY5bIAScjl"
      },
      "source": [
        "a_list = [a] * 5\r\n",
        "b_list = [b] * 5"
      ],
      "execution_count": 7,
      "outputs": []
    },
    {
      "cell_type": "code",
      "metadata": {
        "id": "XQUQ9RVvScle"
      },
      "source": [
        "combined = a_list + b_list"
      ],
      "execution_count": 8,
      "outputs": []
    },
    {
      "cell_type": "code",
      "metadata": {
        "colab": {
          "base_uri": "https://localhost:8080/"
        },
        "id": "CtW-blqSScn8",
        "outputId": "a1709726-4285-4f5c-846a-fb69580d4de0"
      },
      "source": [
        "print(len(combined)) # 10"
      ],
      "execution_count": 9,
      "outputs": [
        {
          "output_type": "stream",
          "text": [
            "10\n"
          ],
          "name": "stdout"
        }
      ]
    },
    {
      "cell_type": "code",
      "metadata": {
        "colab": {
          "base_uri": "https://localhost:8080/"
        },
        "id": "ttXYZQgRSva1",
        "outputId": "e7dfbf74-9c2c-49c7-8d6f-2bd40e64897e"
      },
      "source": [
        "\"\"\"\r\n",
        "1. Assign two different types to the variables \"a\" and \"b\".\r\n",
        "\r\n",
        "2. Use basic operators to create a list that contains three instances of \"a\" and three instances of \"b\".\r\n",
        "\"\"\"\r\n",
        "# Modify the code below to meet the requirements outlined above\r\n",
        "a = \"a\"\r\n",
        "b = \"5\"\r\n",
        "\r\n",
        "my_list = a*3 + b*3\r\n",
        "print(my_list)"
      ],
      "execution_count": 16,
      "outputs": [
        {
          "output_type": "stream",
          "text": [
            "aaa555\n"
          ],
          "name": "stdout"
        }
      ]
    },
    {
      "cell_type": "code",
      "metadata": {
        "colab": {
          "base_uri": "https://localhost:8080/"
        },
        "id": "z11U46V5VFcR",
        "outputId": "820b8251-9338-4f67-c630-5bc823548307"
      },
      "source": [
        "[i.split('\\t', 1)[0] for i in my_list]"
      ],
      "execution_count": 18,
      "outputs": [
        {
          "output_type": "execute_result",
          "data": {
            "text/plain": [
              "['a', 'a', 'a', '5', '5', '5']"
            ]
          },
          "metadata": {
            "tags": []
          },
          "execution_count": 18
        }
      ]
    },
    {
      "cell_type": "code",
      "metadata": {
        "colab": {
          "base_uri": "https://localhost:8080/"
        },
        "id": "7fgSKqHGThwl",
        "outputId": "736da69e-b2c8-4796-d1cb-96244dfedbd5"
      },
      "source": [
        "for element in my_list:\r\n",
        "    my_list = element.split(',')\r\n",
        "    print(my_list)"
      ],
      "execution_count": 15,
      "outputs": [
        {
          "output_type": "stream",
          "text": [
            "['a']\n",
            "['a']\n",
            "['a']\n",
            "['5']\n",
            "['5']\n",
            "['5']\n"
          ],
          "name": "stdout"
        }
      ]
    }
  ]
}