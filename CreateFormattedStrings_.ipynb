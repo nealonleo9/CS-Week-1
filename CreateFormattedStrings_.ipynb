{
  "nbformat": 4,
  "nbformat_minor": 0,
  "metadata": {
    "colab": {
      "name": "CreateFormattedStrings*",
      "provenance": [],
      "authorship_tag": "ABX9TyMcL6cg9LVfa2iMZRfgYO7X",
      "include_colab_link": true
    },
    "kernelspec": {
      "name": "python3",
      "display_name": "Python 3"
    }
  },
  "cells": [
    {
      "cell_type": "markdown",
      "metadata": {
        "id": "view-in-github",
        "colab_type": "text"
      },
      "source": [
        "<a href=\"https://colab.research.google.com/github/nealonleo9/CS-Week-1/blob/main/CreateFormattedStrings_.ipynb\" target=\"_parent\"><img src=\"https://colab.research.google.com/assets/colab-badge.svg\" alt=\"Open In Colab\"/></a>"
      ]
    },
    {
      "cell_type": "code",
      "metadata": {
        "colab": {
          "base_uri": "https://localhost:8080/"
        },
        "id": "2w6xZsdRV5Ru",
        "outputId": "38561840-ed84-4024-8a2f-cd96811a1d2f"
      },
      "source": [
        "name = \"Austen\"\r\n",
        "formatted_string = \"Hello, %s!\" % name\r\n",
        "print(formatted_string) # Hello, Austen!"
      ],
      "execution_count": 1,
      "outputs": [
        {
          "output_type": "stream",
          "text": [
            "Hello, Austen!\n"
          ],
          "name": "stdout"
        }
      ]
    },
    {
      "cell_type": "code",
      "metadata": {
        "id": "g26cLUi8XFw_"
      },
      "source": [
        "#To format a string in Python, you use the % operator to format a set of stored variables in a tuple.\r\n",
        "#You also include argument specifiers in your string with special symbols like %s and %d.\r\n",
        "%s - string\r\n",
        "%d - integer\r\n",
        "%f - floating points or numbers"
      ],
      "execution_count": null,
      "outputs": []
    },
    {
      "cell_type": "code",
      "metadata": {
        "colab": {
          "base_uri": "https://localhost:8080/"
        },
        "id": "Lq_8Zb2DW-qu",
        "outputId": "9d611329-36e0-46fc-f6eb-f3b3ff20d542"
      },
      "source": [
        "name = \"Austen\"\r\n",
        "year = 2020\r\n",
        "print(\"Hey %s! It's the year %d.\" % (name, year))\r\n",
        "# Hey Austen! It's the year 2020."
      ],
      "execution_count": 2,
      "outputs": [
        {
          "output_type": "stream",
          "text": [
            "Hey Austen! It's the year 2020.\n"
          ],
          "name": "stdout"
        }
      ]
    },
    {
      "cell_type": "code",
      "metadata": {
        "colab": {
          "base_uri": "https://localhost:8080/"
        },
        "id": "TK7L5jHrW-xj",
        "outputId": "f41ba339-addb-419e-e039-99df650f7be7"
      },
      "source": [
        "my_list = [1,2,3]\r\n",
        "print(\"my_list: %s\" % my_list)\r\n",
        "# my_list: [1, 2, 3]"
      ],
      "execution_count": 3,
      "outputs": [
        {
          "output_type": "stream",
          "text": [
            "my_list: [1, 2, 3]\n"
          ],
          "name": "stdout"
        }
      ]
    },
    {
      "cell_type": "code",
      "metadata": {
        "id": "1srlhRDAW-0m"
      },
      "source": [
        "%s - String (or any object with a string representation)\r\n",
        "%d - Integers\r\n",
        "%f - Floating point numbers\r\n",
        "%.<number of digits>f - Floating point numbers with a fixed amount of digits to the dot's right.\r\n",
        "%x/%X - Integers in hexadecimal (lowercase/uppercase)"
      ],
      "execution_count": null,
      "outputs": []
    },
    {
      "cell_type": "code",
      "metadata": {
        "id": "2qyhAdTAW-3_"
      },
      "source": [
        "product_name = \"bananas\"\r\n",
        "price = 1.23\r\n",
        "product_id = 123456"
      ],
      "execution_count": 4,
      "outputs": []
    },
    {
      "cell_type": "code",
      "metadata": {
        "colab": {
          "base_uri": "https://localhost:8080/"
        },
        "id": "GssGoE7hXzkx",
        "outputId": "cde969ce-16a3-4404-bb47-0741a34db4d3"
      },
      "source": [
        "print(\"%s (id: %d) are currently $%.2f.\" % (product_name, product_id, price))\r\n",
        "# bananas (id: 123456) are currently $1.23."
      ],
      "execution_count": 5,
      "outputs": [
        {
          "output_type": "stream",
          "text": [
            "bananas (id: 123456) are currently $1.23.\n"
          ],
          "name": "stdout"
        }
      ]
    },
    {
      "cell_type": "code",
      "metadata": {
        "id": "eTK1rD7zXzo5"
      },
      "source": [
        "\"\"\"\r\n",
        "1. Assign three different types of data to the three variables \"a\", \"b\", and \"c\".\r\n",
        "\r\n",
        "2. Use a format string to inject the data from your three variables into the string.\r\n",
        "\"\"\"\r\n",
        "# Modify the code below to meet the requirements above.\r\n",
        "a = 5\r\n",
        "b = \"one\"\r\n",
        "c = 6.0\r\n",
        "\r\n",
        "print(\"\" % ())"
      ],
      "execution_count": null,
      "outputs": []
    }
  ]
}