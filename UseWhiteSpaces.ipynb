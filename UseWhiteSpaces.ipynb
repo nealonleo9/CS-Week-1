{
  "nbformat": 4,
  "nbformat_minor": 0,
  "metadata": {
    "colab": {
      "name": "UseWhiteSpaces",
      "provenance": [],
      "authorship_tag": "ABX9TyMVL857FqWcaftz+RfTeDiU",
      "include_colab_link": true
    },
    "kernelspec": {
      "name": "python3",
      "display_name": "Python 3"
    }
  },
  "cells": [
    {
      "cell_type": "markdown",
      "metadata": {
        "id": "view-in-github",
        "colab_type": "text"
      },
      "source": [
        "<a href=\"https://colab.research.google.com/github/nealonleo9/CS-Week-1/blob/main/UseWhiteSpaces.ipynb\" target=\"_parent\"><img src=\"https://colab.research.google.com/assets/colab-badge.svg\" alt=\"Open In Colab\"/></a>"
      ]
    },
    {
      "cell_type": "code",
      "metadata": {
        "colab": {
          "base_uri": "https://localhost:8080/",
          "height": 35
        },
        "id": "jtpaafpv-867",
        "outputId": "d015b985-3c9b-4765-cb56-1b330795f53d"
      },
      "source": [
        "import string\r\n",
        "string.whitespace"
      ],
      "execution_count": 1,
      "outputs": [
        {
          "output_type": "execute_result",
          "data": {
            "application/vnd.google.colaboratory.intrinsic+json": {
              "type": "string"
            },
            "text/plain": [
              "' \\t\\n\\r\\x0b\\x0c'"
            ]
          },
          "metadata": {
            "tags": []
          },
          "execution_count": 1
        }
      ]
    },
    {
      "cell_type": "markdown",
      "metadata": {
        "id": "wE5HDpuhByK7"
      },
      "source": [
        "You've seen the different types of whitespace characters that can appear, but you mainly need to concern yourself with \" \", \\t, and \\n."
      ]
    },
    {
      "cell_type": "code",
      "metadata": {
        "colab": {
          "base_uri": "https://localhost:8080/",
          "height": 35
        },
        "id": "5ET6bamJB2TI",
        "outputId": "20a7e377-630e-44de-f9fa-b16d42fe8b0b"
      },
      "source": [
        "first = \"Lambda\"\r\n",
        "second = \"School\"\r\n",
        "first + second\r\n"
      ],
      "execution_count": 2,
      "outputs": [
        {
          "output_type": "execute_result",
          "data": {
            "application/vnd.google.colaboratory.intrinsic+json": {
              "type": "string"
            },
            "text/plain": [
              "'LambdaSchool'"
            ]
          },
          "metadata": {
            "tags": []
          },
          "execution_count": 2
        }
      ]
    },
    {
      "cell_type": "code",
      "metadata": {
        "id": "ng1pkojwC4Mn"
      },
      "source": [
        "#Notice how the REPL evaluates the expression first + second when I return on line 3. \r\n",
        "#Below that, I can write one logical line of code over multiple lines by ending each line with a \\ character. \r\n",
        "#That \\ character lets the Python interpreter that even though there is a newline, you don't want it to treat it as the end of a logical line.\r\n",
        "\r\n",
        "#It's important to understand that Python assumes meaning in newline characters when trying to interpret your code."
      ],
      "execution_count": null,
      "outputs": []
    },
    {
      "cell_type": "markdown",
      "metadata": {
        "id": "WS4LVSCJCwJQ"
      },
      "source": [
        "![image.png](data:image/png;base64,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)"
      ]
    },
    {
      "cell_type": "code",
      "metadata": {
        "colab": {
          "base_uri": "https://localhost:8080/"
        },
        "id": "S8YZNwyvDINQ",
        "outputId": "d2586e83-551a-445a-c4dc-a7d2d9af2802"
      },
      "source": [
        "if True:\r\n",
        "     if True:\r\n",
        "         print(\"it worked!\")"
      ],
      "execution_count": 5,
      "outputs": [
        {
          "output_type": "stream",
          "text": [
            "it worked!\n"
          ],
          "name": "stdout"
        }
      ]
    },
    {
      "cell_type": "code",
      "metadata": {
        "id": "ZJ_57En-DMku"
      },
      "source": [
        "#'The Python interpreter can successfully run this code because consistent whitespace (level of indentation) is used.'\r\n",
        "#'>>> if True:'\r\n",
        "#'...     if True:'\r\n",
        "#'...         print(\"it worked!\")'\r\n",
        "# ' File \"<stdin>\", line 3'\r\n",
        "#   ' print(\"it worked!\")'\r\n",
        "#                      '^'\r\n",
        "#'TabError: inconsistent use of tabs and spaces in indentation'"
      ],
      "execution_count": 9,
      "outputs": []
    },
    {
      "cell_type": "code",
      "metadata": {
        "colab": {
          "base_uri": "https://localhost:8080/"
        },
        "id": "F7aAGxmdEa13",
        "outputId": "69ffa1b2-ce65-4693-91e9-78e7fc532075"
      },
      "source": [
        "\"\"\"\r\n",
        "1. Import the `string` module, and then print out the value at `string.whitespace`.\r\n",
        "\"\"\"\r\n",
        "import string\r\n",
        "#string.whitespace\r\n",
        "\r\n",
        "\"\"\"\r\n",
        "2. Write an expression that adds the values of the three variables (`a`, `b`, and `c`) below and assign it to `result`. However, you cannot do it on one line of code. You need to write the expression on five lines of code\r\n",
        "\"\"\"\r\n",
        "a = 1\r\n",
        "b = 2\r\n",
        "c = 3\r\n",
        "#result = (a + b + c)\r\n",
        "# YOUR CODE HERE\r\n",
        "# YOUR CODE HERE\r\n",
        "# YOUR CODE HERE\r\n",
        "# YOUR CODE HERE\r\n",
        "\r\n",
        "# This should print 6\r\n",
        "#print(result)\r\n",
        "\r\n",
        "\r\n",
        "\r\n",
        "\"\"\"\r\n",
        "3. Fix the code below so that `it worked!` prints to the console.\r\n",
        "\"\"\"\r\n",
        "if True:\r\n",
        "  if True:\r\n",
        "    if True:\r\n",
        "      print(\"it worked!\")"
      ],
      "execution_count": 10,
      "outputs": [
        {
          "output_type": "stream",
          "text": [
            "it worked!\n"
          ],
          "name": "stdout"
        }
      ]
    },
    {
      "cell_type": "markdown",
      "metadata": {
        "id": "lQGspQipFPGH"
      },
      "source": [
        "![image.png](data:image/png;base64,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)"
      ]
    },
    {
      "cell_type": "markdown",
      "metadata": {
        "id": "etBLksJ2IoYF"
      },
      "source": [
        "![image.png](data:image/png;base64,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)"
      ]
    }
  ]
}