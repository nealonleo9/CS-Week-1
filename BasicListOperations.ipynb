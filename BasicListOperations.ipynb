{
  "nbformat": 4,
  "nbformat_minor": 0,
  "metadata": {
    "colab": {
      "name": "BasicListOperations",
      "provenance": [],
      "authorship_tag": "ABX9TyNkB5tpGqiiVB3j4x6SAaV7",
      "include_colab_link": true
    },
    "kernelspec": {
      "name": "python3",
      "display_name": "Python 3"
    }
  },
  "cells": [
    {
      "cell_type": "markdown",
      "metadata": {
        "id": "view-in-github",
        "colab_type": "text"
      },
      "source": [
        "<a href=\"https://colab.research.google.com/github/nealonleo9/CS-Week-1/blob/main/BasicListOperations.ipynb\" target=\"_parent\"><img src=\"https://colab.research.google.com/assets/colab-badge.svg\" alt=\"Open In Colab\"/></a>"
      ]
    },
    {
      "cell_type": "code",
      "metadata": {
        "colab": {
          "base_uri": "https://localhost:8080/"
        },
        "id": "3QP-FQjTPJj2",
        "outputId": "2fdf6b1e-e414-4a98-f226-c3b7085a66f8"
      },
      "source": [
        "my_list = [] # empty list literal\r\n",
        "my_list.append(1) # add 1 to end of list\r\n",
        "my_list.append(2) # add 2 to end of list\r\n",
        "my_list.append(3) # add 3 to end of list\r\n",
        "print(my_list[0]) # prints 1\r\n",
        "print(my_list[1]) # prints 2\r\n",
        "print(my_list[2]) # prints 3\r\n",
        "\r\n",
        "# iterate over the list with for statement to print each item in my_list\r\n",
        "for item in my_list:\r\n",
        "    print(item)"
      ],
      "execution_count": 3,
      "outputs": [
        {
          "output_type": "stream",
          "text": [
            "1\n",
            "2\n",
            "3\n",
            "1\n",
            "2\n",
            "3\n"
          ],
          "name": "stdout"
        }
      ]
    },
    {
      "cell_type": "code",
      "metadata": {
        "colab": {
          "base_uri": "https://localhost:8080/"
        },
        "id": "hgKHxE4VQHmq",
        "outputId": "81ed3210-5c2c-4d2f-de98-009fab8fc6c4"
      },
      "source": [
        "numbers = []\r\n",
        "numbers.append(1)\r\n",
        "numbers.append(2)\r\n",
        "numbers.append(3)\r\n",
        "\r\n",
        "strings = []\r\n",
        "strings.append(\"Lambda\")\r\n",
        "strings.append(\"School\")\r\n",
        "\r\n",
        "print(numbers[2], strings[1])"
      ],
      "execution_count": 4,
      "outputs": [
        {
          "output_type": "stream",
          "text": [
            "3 School\n"
          ],
          "name": "stdout"
        }
      ]
    },
    {
      "cell_type": "code",
      "metadata": {
        "id": "pEEIyj-KQXK2"
      },
      "source": [
        "sum = 0\r\n",
        "for number in numbers:\r\n",
        "    sum += number"
      ],
      "execution_count": 5,
      "outputs": []
    },
    {
      "cell_type": "code",
      "metadata": {
        "colab": {
          "base_uri": "https://localhost:8080/"
        },
        "id": "CdUD6aV7Qbgl",
        "outputId": "f621a087-8ca9-4ea3-e94a-56517affc8f6"
      },
      "source": [
        "\"\"\"\r\n",
        "1. Create a \"numbers\" list that contains two different integer values and two different floating point values.\r\n",
        "\r\n",
        "2. Create a \"strings\" list that contains three different strings.\r\n",
        "\r\n",
        "3. Print the 4th number of your numbers list and the 1st string of your strings list.\r\n",
        "\r\n",
        "4. Iterate through your strings list and print each string.\r\n",
        "\"\"\"\r\n",
        "numbers = []\r\n",
        "numbers.append(11)\r\n",
        "numbers.append(42)\r\n",
        "numbers.append(51.0)\r\n",
        "numbers.append(47.0)\r\n",
        "numbers.append(32.0)\r\n",
        "\r\n",
        "strings = []\r\n",
        "strings.append(\"Lambda\")\r\n",
        "strings.append(\"School\")\r\n",
        "strings.append(\"Awsome\")\r\n",
        "\r\n",
        "#print(numbers[2], strings[3])\r\n",
        "print(numbers[3], strings[0])"
      ],
      "execution_count": 13,
      "outputs": [
        {
          "output_type": "stream",
          "text": [
            "47.0 Lambda\n"
          ],
          "name": "stdout"
        }
      ]
    },
    {
      "cell_type": "code",
      "metadata": {
        "colab": {
          "base_uri": "https://localhost:8080/"
        },
        "id": "ReDPJK1KRLEJ",
        "outputId": "745446dc-3a2d-402a-8eea-cef4222c0ef3"
      },
      "source": [
        "for item in strings:\r\n",
        "    print(item)"
      ],
      "execution_count": 14,
      "outputs": [
        {
          "output_type": "stream",
          "text": [
            "Lambda\n",
            "School\n",
            "Awsome\n"
          ],
          "name": "stdout"
        }
      ]
    }
  ]
}