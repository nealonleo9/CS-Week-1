{
  "nbformat": 4,
  "nbformat_minor": 0,
  "metadata": {
    "colab": {
      "name": "UsePrintStatement",
      "provenance": [],
      "collapsed_sections": [],
      "authorship_tag": "ABX9TyOtF3QAs78DQfhISk3iIjqQ",
      "include_colab_link": true
    },
    "kernelspec": {
      "name": "python3",
      "display_name": "Python 3"
    }
  },
  "cells": [
    {
      "cell_type": "markdown",
      "metadata": {
        "id": "view-in-github",
        "colab_type": "text"
      },
      "source": [
        "<a href=\"https://colab.research.google.com/github/nealonleo9/CS-Week-1/blob/main/UsePrintStatement.ipynb\" target=\"_parent\"><img src=\"https://colab.research.google.com/assets/colab-badge.svg\" alt=\"Open In Colab\"/></a>"
      ]
    },
    {
      "cell_type": "code",
      "metadata": {
        "colab": {
          "base_uri": "https://localhost:8080/"
        },
        "id": "0NUj049maIYE",
        "outputId": "561d2f80-bf3f-427f-a78d-4b8dfce5a3fd"
      },
      "source": [
        "print(\"Lambda School is awesome!\")"
      ],
      "execution_count": 1,
      "outputs": [
        {
          "output_type": "stream",
          "text": [
            "Lambda School is awesome!\n"
          ],
          "name": "stdout"
        }
      ]
    },
    {
      "cell_type": "code",
      "metadata": {
        "colab": {
          "base_uri": "https://localhost:8080/"
        },
        "id": "mfx1MFOBuIFe",
        "outputId": "fb239611-463a-4717-e23e-4b14346e5874"
      },
      "source": [
        "slogan = \"i love lamp\"\r\n",
        "print(slogan)"
      ],
      "execution_count": 3,
      "outputs": [
        {
          "output_type": "stream",
          "text": [
            "i love lamp\n"
          ],
          "name": "stdout"
        }
      ]
    },
    {
      "cell_type": "code",
      "metadata": {
        "colab": {
          "base_uri": "https://localhost:8080/"
        },
        "id": "lJv8c56GuOeE",
        "outputId": "fe0c3ee2-e653-419d-cca1-c518a01b068f"
      },
      "source": [
        "superlative = \"wonderful\"\r\n",
        "school = \"Lambda School\"\r\n",
        "print(school + \" is \" + superlative)"
      ],
      "execution_count": 4,
      "outputs": [
        {
          "output_type": "stream",
          "text": [
            "Lambda School is wonderful\n"
          ],
          "name": "stdout"
        }
      ]
    },
    {
      "cell_type": "code",
      "metadata": {
        "id": "Ne_qq1MiuU_r"
      },
      "source": [
        "print(2020)\r\n",
        "2020\r\n",
        "print(123.456)\r\n",
        "123.456\r\n",
        "print(False)\r\n",
        "False\r\n",
        "print([\"Lambda\", \"School\", 2, 0, 2, 0])\r\n",
        "['Lambda', 'School', 2, 0, 2, 0]\r\n",
        "print((\"Lambda\", \"School\"))\r\n",
        "('Lambda', 'School')\r\n",
        "print({\"school\": \"Lambda School\", \"year\": 2020})\r\n",
        "{'school': 'Lambda School', 'year': 2020}"
      ],
      "execution_count": null,
      "outputs": []
    },
    {
      "cell_type": "code",
      "metadata": {
        "colab": {
          "base_uri": "https://localhost:8080/"
        },
        "id": "w-zaYf3fue-f",
        "outputId": "02e61256-7212-44df-af70-cdf6cb52a35d"
      },
      "source": [
        "print(\"Lambda School\", 2020, True)"
      ],
      "execution_count": 5,
      "outputs": [
        {
          "output_type": "stream",
          "text": [
            "Lambda School 2020 True\n"
          ],
          "name": "stdout"
        }
      ]
    },
    {
      "cell_type": "code",
      "metadata": {
        "id": "GKboknr0ujlX"
      },
      "source": [
        "print(\"Lambda School\", 2020, True, sep=\"!!!\")\r\n",
        "Lambda School!!!2020!!!True\r\n",
        ">>> print(\"Lambda School\", 2020, True, sep=\"\\t\")\r\n",
        "Lambda School   2020    True\r\n",
        ">>> print(\"Lambda School\", 2020, True, sep=\"\\n\")\r\n",
        "Lambda School\r\n",
        "2020\r\n",
        "True\r\n",
        ">>> print(\"Lambda School\", 2020, True, sep=\"\")\r\n",
        "Lambda School2020True"
      ],
      "execution_count": null,
      "outputs": []
    },
    {
      "cell_type": "code",
      "metadata": {
        "colab": {
          "base_uri": "https://localhost:8080/"
        },
        "id": "cifDdnPyujro",
        "outputId": "889954f1-49b8-4b30-8751-706c10ab9ce1"
      },
      "source": [
        "print(\"Lambda School\", 2020, True, sep=\"!!!\")\r\n"
      ],
      "execution_count": 6,
      "outputs": [
        {
          "output_type": "stream",
          "text": [
            "Lambda School!!!2020!!!True\n"
          ],
          "name": "stdout"
        }
      ]
    },
    {
      "cell_type": "code",
      "metadata": {
        "colab": {
          "base_uri": "https://localhost:8080/"
        },
        "id": "ZYHuoFHAujuF",
        "outputId": "67aee9f8-7709-457e-e0dc-44a1e114f9d3"
      },
      "source": [
        "print(\"Lambda School\", 2020, True, sep=\"\\t\")"
      ],
      "execution_count": 7,
      "outputs": [
        {
          "output_type": "stream",
          "text": [
            "Lambda School\t2020\tTrue\n"
          ],
          "name": "stdout"
        }
      ]
    },
    {
      "cell_type": "code",
      "metadata": {
        "id": "sWDjnpYvujw4"
      },
      "source": [
        "#\"print(\"Lambda School\", 2020, True, nov=\"\\t\")\""
      ],
      "execution_count": 12,
      "outputs": []
    },
    {
      "cell_type": "code",
      "metadata": {
        "colab": {
          "base_uri": "https://localhost:8080/"
        },
        "id": "02rSJFnrujz0",
        "outputId": "ed3a316d-e1b7-4378-ecb5-8c0422e7825c"
      },
      "source": [
        "print(\"Lambda School\", 2020, True, sep=\"\\n\")"
      ],
      "execution_count": 13,
      "outputs": [
        {
          "output_type": "stream",
          "text": [
            "Lambda School\n",
            "2020\n",
            "True\n"
          ],
          "name": "stdout"
        }
      ]
    },
    {
      "cell_type": "code",
      "metadata": {
        "colab": {
          "base_uri": "https://localhost:8080/"
        },
        "id": "uCQHicV5uj1x",
        "outputId": "d1d37caa-c0b8-4b2c-d0f9-6e98d2050693"
      },
      "source": [
        "print(\"Lambda School\", 2020, True, sep=\"\")"
      ],
      "execution_count": 14,
      "outputs": [
        {
          "output_type": "stream",
          "text": [
            "Lambda School2020True\n"
          ],
          "name": "stdout"
        }
      ]
    },
    {
      "cell_type": "code",
      "metadata": {
        "colab": {
          "base_uri": "https://localhost:8080/"
        },
        "id": "mRNOhlTAuj3F",
        "outputId": "dd1c4416-aba2-4406-f8fb-70fd3e98ede5"
      },
      "source": [
        "print(\"Are you a Lambda School student?\", end=\" (Y or N)\")"
      ],
      "execution_count": 15,
      "outputs": [
        {
          "output_type": "stream",
          "text": [
            "Are you a Lambda School student? (Y or N)"
          ],
          "name": "stdout"
        }
      ]
    },
    {
      "cell_type": "code",
      "metadata": {
        "colab": {
          "base_uri": "https://localhost:8080/"
        },
        "id": "GQdjeYIAuj5M",
        "outputId": "5965c81a-2ab7-4299-9c5b-3789062aec6e"
      },
      "source": [
        "\"\"\"\r\n",
        "Use the print function, the variables below, and your own literal argument values to print the following output to the screen (your printed output should have the same format as below):\r\n",
        "1 ~\r\n",
        "two ~\r\n",
        "3 ~\r\n",
        "Lambda ~\r\n",
        "School ~\r\n",
        "4 ~\r\n",
        "5 ~\r\n",
        "6 --->\r\n",
        "\r\n",
        "*Note*: you will need to change the default values for the `sep` and `end` keyword arguments.\r\n",
        "\"\"\"\r\n",
        "one = 1\r\n",
        "two = \"two\"\r\n",
        "school = \"Lambda\"\r\n",
        "five = 5\r\n",
        "\r\n",
        "print(one, two, 3,'Lambda',\"School\", 4, five, 6, sep=\" ~\\n\", end=\" --->\")"
      ],
      "execution_count": 22,
      "outputs": [
        {
          "output_type": "stream",
          "text": [
            "1 ~\n",
            "two ~\n",
            "3 ~\n",
            "Lambda ~\n",
            "School ~\n",
            "4 ~\n",
            "5 ~\n",
            "6 --->"
          ],
          "name": "stdout"
        }
      ]
    }
  ]
}